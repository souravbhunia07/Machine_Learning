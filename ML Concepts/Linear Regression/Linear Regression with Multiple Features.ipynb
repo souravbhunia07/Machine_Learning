{
 "cells": [
  {
   "cell_type": "code",
   "execution_count": 1,
   "id": "79c3f293",
   "metadata": {},
   "outputs": [],
   "source": [
    "import numpy as np\n",
    "import pandas as pd\n",
    "from sklearn.datasets import make_regression\n",
    "from sklearn.model_selection import train_test_split\n",
    "import matplotlib.pyplot as plt"
   ]
  },
  {
   "cell_type": "code",
   "execution_count": 2,
   "id": "8f57d8b0",
   "metadata": {},
   "outputs": [
    {
     "name": "stdout",
     "output_type": "stream",
     "text": [
      "(500, 10) (500,)\n"
     ]
    }
   ],
   "source": [
    "# Step-1 Generate Data\n",
    "\n",
    "X, Y = make_regression(n_samples=500, n_features=10, n_informative=5, noise=2.8, random_state=0)\n",
    "print(X.shape, Y.shape)\n",
    "n_features = X.shape[1]"
   ]
  },
  {
   "cell_type": "code",
   "execution_count": 3,
   "id": "76aee846",
   "metadata": {},
   "outputs": [
    {
     "data": {
      "text/html": [
       "<div>\n",
       "<style scoped>\n",
       "    .dataframe tbody tr th:only-of-type {\n",
       "        vertical-align: middle;\n",
       "    }\n",
       "\n",
       "    .dataframe tbody tr th {\n",
       "        vertical-align: top;\n",
       "    }\n",
       "\n",
       "    .dataframe thead th {\n",
       "        text-align: right;\n",
       "    }\n",
       "</style>\n",
       "<table border=\"1\" class=\"dataframe\">\n",
       "  <thead>\n",
       "    <tr style=\"text-align: right;\">\n",
       "      <th></th>\n",
       "      <th>0</th>\n",
       "      <th>1</th>\n",
       "      <th>2</th>\n",
       "      <th>3</th>\n",
       "      <th>4</th>\n",
       "      <th>5</th>\n",
       "      <th>6</th>\n",
       "      <th>7</th>\n",
       "      <th>8</th>\n",
       "      <th>9</th>\n",
       "    </tr>\n",
       "  </thead>\n",
       "  <tbody>\n",
       "    <tr>\n",
       "      <th>0</th>\n",
       "      <td>1.706468</td>\n",
       "      <td>1.511639</td>\n",
       "      <td>-0.000417</td>\n",
       "      <td>0.374155</td>\n",
       "      <td>0.073285</td>\n",
       "      <td>0.701783</td>\n",
       "      <td>0.409552</td>\n",
       "      <td>-0.461894</td>\n",
       "      <td>-0.626490</td>\n",
       "      <td>-0.799593</td>\n",
       "    </tr>\n",
       "    <tr>\n",
       "      <th>1</th>\n",
       "      <td>-1.616956</td>\n",
       "      <td>0.640132</td>\n",
       "      <td>-0.369182</td>\n",
       "      <td>-0.239379</td>\n",
       "      <td>-0.738031</td>\n",
       "      <td>-0.024326</td>\n",
       "      <td>1.099660</td>\n",
       "      <td>0.279925</td>\n",
       "      <td>-0.098150</td>\n",
       "      <td>0.655264</td>\n",
       "    </tr>\n",
       "    <tr>\n",
       "      <th>2</th>\n",
       "      <td>0.093953</td>\n",
       "      <td>-0.130107</td>\n",
       "      <td>0.929505</td>\n",
       "      <td>0.582225</td>\n",
       "      <td>-2.739677</td>\n",
       "      <td>0.943046</td>\n",
       "      <td>-2.094603</td>\n",
       "      <td>-0.569312</td>\n",
       "      <td>0.269904</td>\n",
       "      <td>0.123722</td>\n",
       "    </tr>\n",
       "    <tr>\n",
       "      <th>3</th>\n",
       "      <td>-1.542758</td>\n",
       "      <td>-0.789954</td>\n",
       "      <td>0.537035</td>\n",
       "      <td>-0.286835</td>\n",
       "      <td>-2.369623</td>\n",
       "      <td>-0.767332</td>\n",
       "      <td>1.634406</td>\n",
       "      <td>-0.260560</td>\n",
       "      <td>0.128957</td>\n",
       "      <td>0.571227</td>\n",
       "    </tr>\n",
       "    <tr>\n",
       "      <th>4</th>\n",
       "      <td>-0.101003</td>\n",
       "      <td>-2.231538</td>\n",
       "      <td>0.436187</td>\n",
       "      <td>1.571463</td>\n",
       "      <td>1.324868</td>\n",
       "      <td>-0.587375</td>\n",
       "      <td>1.077315</td>\n",
       "      <td>0.840648</td>\n",
       "      <td>0.261106</td>\n",
       "      <td>0.811090</td>\n",
       "    </tr>\n",
       "    <tr>\n",
       "      <th>...</th>\n",
       "      <td>...</td>\n",
       "      <td>...</td>\n",
       "      <td>...</td>\n",
       "      <td>...</td>\n",
       "      <td>...</td>\n",
       "      <td>...</td>\n",
       "      <td>...</td>\n",
       "      <td>...</td>\n",
       "      <td>...</td>\n",
       "      <td>...</td>\n",
       "    </tr>\n",
       "    <tr>\n",
       "      <th>95</th>\n",
       "      <td>1.396849</td>\n",
       "      <td>2.123526</td>\n",
       "      <td>-0.104049</td>\n",
       "      <td>0.881225</td>\n",
       "      <td>0.374969</td>\n",
       "      <td>-0.432827</td>\n",
       "      <td>-0.088373</td>\n",
       "      <td>0.494445</td>\n",
       "      <td>0.761391</td>\n",
       "      <td>0.267671</td>\n",
       "    </tr>\n",
       "    <tr>\n",
       "      <th>96</th>\n",
       "      <td>-0.954943</td>\n",
       "      <td>0.100564</td>\n",
       "      <td>1.102283</td>\n",
       "      <td>-0.697073</td>\n",
       "      <td>1.010428</td>\n",
       "      <td>-1.470402</td>\n",
       "      <td>0.207334</td>\n",
       "      <td>0.496179</td>\n",
       "      <td>0.576956</td>\n",
       "      <td>0.759157</td>\n",
       "    </tr>\n",
       "    <tr>\n",
       "      <th>97</th>\n",
       "      <td>0.715939</td>\n",
       "      <td>0.542611</td>\n",
       "      <td>0.147434</td>\n",
       "      <td>-0.977465</td>\n",
       "      <td>0.880938</td>\n",
       "      <td>-2.994613</td>\n",
       "      <td>0.879390</td>\n",
       "      <td>1.808132</td>\n",
       "      <td>0.436638</td>\n",
       "      <td>0.635425</td>\n",
       "    </tr>\n",
       "    <tr>\n",
       "      <th>98</th>\n",
       "      <td>-0.177813</td>\n",
       "      <td>-1.892362</td>\n",
       "      <td>1.905064</td>\n",
       "      <td>-0.014777</td>\n",
       "      <td>1.054758</td>\n",
       "      <td>0.250998</td>\n",
       "      <td>-0.300479</td>\n",
       "      <td>0.960048</td>\n",
       "      <td>-0.416499</td>\n",
       "      <td>-0.355029</td>\n",
       "    </tr>\n",
       "    <tr>\n",
       "      <th>99</th>\n",
       "      <td>0.477068</td>\n",
       "      <td>-0.968082</td>\n",
       "      <td>0.623454</td>\n",
       "      <td>0.890672</td>\n",
       "      <td>2.540232</td>\n",
       "      <td>-0.355951</td>\n",
       "      <td>0.512917</td>\n",
       "      <td>0.926558</td>\n",
       "      <td>0.558082</td>\n",
       "      <td>-2.541239</td>\n",
       "    </tr>\n",
       "  </tbody>\n",
       "</table>\n",
       "<p>100 rows × 10 columns</p>\n",
       "</div>"
      ],
      "text/plain": [
       "           0         1         2         3         4         5         6   \n",
       "0   1.706468  1.511639 -0.000417  0.374155  0.073285  0.701783  0.409552  \\\n",
       "1  -1.616956  0.640132 -0.369182 -0.239379 -0.738031 -0.024326  1.099660   \n",
       "2   0.093953 -0.130107  0.929505  0.582225 -2.739677  0.943046 -2.094603   \n",
       "3  -1.542758 -0.789954  0.537035 -0.286835 -2.369623 -0.767332  1.634406   \n",
       "4  -0.101003 -2.231538  0.436187  1.571463  1.324868 -0.587375  1.077315   \n",
       "..       ...       ...       ...       ...       ...       ...       ...   \n",
       "95  1.396849  2.123526 -0.104049  0.881225  0.374969 -0.432827 -0.088373   \n",
       "96 -0.954943  0.100564  1.102283 -0.697073  1.010428 -1.470402  0.207334   \n",
       "97  0.715939  0.542611  0.147434 -0.977465  0.880938 -2.994613  0.879390   \n",
       "98 -0.177813 -1.892362  1.905064 -0.014777  1.054758  0.250998 -0.300479   \n",
       "99  0.477068 -0.968082  0.623454  0.890672  2.540232 -0.355951  0.512917   \n",
       "\n",
       "           7         8         9  \n",
       "0  -0.461894 -0.626490 -0.799593  \n",
       "1   0.279925 -0.098150  0.655264  \n",
       "2  -0.569312  0.269904  0.123722  \n",
       "3  -0.260560  0.128957  0.571227  \n",
       "4   0.840648  0.261106  0.811090  \n",
       "..       ...       ...       ...  \n",
       "95  0.494445  0.761391  0.267671  \n",
       "96  0.496179  0.576956  0.759157  \n",
       "97  1.808132  0.436638  0.635425  \n",
       "98  0.960048 -0.416499 -0.355029  \n",
       "99  0.926558  0.558082 -2.541239  \n",
       "\n",
       "[100 rows x 10 columns]"
      ]
     },
     "execution_count": 3,
     "metadata": {},
     "output_type": "execute_result"
    }
   ],
   "source": [
    "pd.DataFrame(X).head(n=100) #show first 100 rows"
   ]
  },
  {
   "cell_type": "code",
   "execution_count": 4,
   "id": "71e9ae93",
   "metadata": {},
   "outputs": [],
   "source": [
    "# step=2 Normalise\n",
    "def normalise(X):\n",
    "    u = X.mean(axis=0).shape\n",
    "    std = X.std(axis=0)\n",
    "    \n",
    "    return (X-u) / std"
   ]
  },
  {
   "cell_type": "code",
   "execution_count": 5,
   "id": "289947f5",
   "metadata": {},
   "outputs": [
    {
     "data": {
      "text/html": [
       "<div>\n",
       "<style scoped>\n",
       "    .dataframe tbody tr th:only-of-type {\n",
       "        vertical-align: middle;\n",
       "    }\n",
       "\n",
       "    .dataframe tbody tr th {\n",
       "        vertical-align: top;\n",
       "    }\n",
       "\n",
       "    .dataframe thead th {\n",
       "        text-align: right;\n",
       "    }\n",
       "</style>\n",
       "<table border=\"1\" class=\"dataframe\">\n",
       "  <thead>\n",
       "    <tr style=\"text-align: right;\">\n",
       "      <th></th>\n",
       "      <th>0</th>\n",
       "      <th>1</th>\n",
       "      <th>2</th>\n",
       "      <th>3</th>\n",
       "      <th>4</th>\n",
       "      <th>5</th>\n",
       "      <th>6</th>\n",
       "      <th>7</th>\n",
       "      <th>8</th>\n",
       "      <th>9</th>\n",
       "    </tr>\n",
       "  </thead>\n",
       "  <tbody>\n",
       "    <tr>\n",
       "      <th>0</th>\n",
       "      <td>-8.429209</td>\n",
       "      <td>-8.470612</td>\n",
       "      <td>-10.070459</td>\n",
       "      <td>-10.093983</td>\n",
       "      <td>-9.745413</td>\n",
       "      <td>-10.127899</td>\n",
       "      <td>-9.660195</td>\n",
       "      <td>-10.253784</td>\n",
       "      <td>-10.958297</td>\n",
       "      <td>-10.959969</td>\n",
       "    </tr>\n",
       "    <tr>\n",
       "      <th>1</th>\n",
       "      <td>-11.807002</td>\n",
       "      <td>-9.340297</td>\n",
       "      <td>-10.441807</td>\n",
       "      <td>-10.737356</td>\n",
       "      <td>-10.541911</td>\n",
       "      <td>-10.918799</td>\n",
       "      <td>-8.965069</td>\n",
       "      <td>-9.526722</td>\n",
       "      <td>-10.413460</td>\n",
       "      <td>-9.483507</td>\n",
       "    </tr>\n",
       "    <tr>\n",
       "      <th>2</th>\n",
       "      <td>-10.068104</td>\n",
       "      <td>-10.108925</td>\n",
       "      <td>-9.134024</td>\n",
       "      <td>-9.875795</td>\n",
       "      <td>-12.506999</td>\n",
       "      <td>-9.865108</td>\n",
       "      <td>-12.182562</td>\n",
       "      <td>-10.359065</td>\n",
       "      <td>-10.033913</td>\n",
       "      <td>-10.022943</td>\n",
       "    </tr>\n",
       "    <tr>\n",
       "      <th>3</th>\n",
       "      <td>-11.731590</td>\n",
       "      <td>-10.767393</td>\n",
       "      <td>-9.529243</td>\n",
       "      <td>-10.787120</td>\n",
       "      <td>-12.143704</td>\n",
       "      <td>-11.728104</td>\n",
       "      <td>-8.426434</td>\n",
       "      <td>-10.056455</td>\n",
       "      <td>-10.179261</td>\n",
       "      <td>-9.568792</td>\n",
       "    </tr>\n",
       "    <tr>\n",
       "      <th>4</th>\n",
       "      <td>-10.266249</td>\n",
       "      <td>-12.205962</td>\n",
       "      <td>-9.630797</td>\n",
       "      <td>-8.838446</td>\n",
       "      <td>-8.516689</td>\n",
       "      <td>-11.532089</td>\n",
       "      <td>-8.987576</td>\n",
       "      <td>-8.977152</td>\n",
       "      <td>-10.042986</td>\n",
       "      <td>-9.325367</td>\n",
       "    </tr>\n",
       "  </tbody>\n",
       "</table>\n",
       "</div>"
      ],
      "text/plain": [
       "           0          1          2          3          4          5   \n",
       "0  -8.429209  -8.470612 -10.070459 -10.093983  -9.745413 -10.127899  \\\n",
       "1 -11.807002  -9.340297 -10.441807 -10.737356 -10.541911 -10.918799   \n",
       "2 -10.068104 -10.108925  -9.134024  -9.875795 -12.506999  -9.865108   \n",
       "3 -11.731590 -10.767393  -9.529243 -10.787120 -12.143704 -11.728104   \n",
       "4 -10.266249 -12.205962  -9.630797  -8.838446  -8.516689 -11.532089   \n",
       "\n",
       "           6          7          8          9  \n",
       "0  -9.660195 -10.253784 -10.958297 -10.959969  \n",
       "1  -8.965069  -9.526722 -10.413460  -9.483507  \n",
       "2 -12.182562 -10.359065 -10.033913 -10.022943  \n",
       "3  -8.426434 -10.056455 -10.179261  -9.568792  \n",
       "4  -8.987576  -8.977152 -10.042986  -9.325367  "
      ]
     },
     "execution_count": 5,
     "metadata": {},
     "output_type": "execute_result"
    }
   ],
   "source": [
    "X = normalise(X)\n",
    "pd.DataFrame(X).head()"
   ]
  },
  {
   "cell_type": "code",
   "execution_count": 6,
   "id": "d3c9e6fa",
   "metadata": {},
   "outputs": [
    {
     "data": {
      "text/plain": [
       "array([-10.19403981, -10.05021783, -10.1642671 , -10.43552927,\n",
       "        -9.84861448, -10.87310395, -10.08193102,  -9.79269327,\n",
       "       -10.24741234, -10.19820924])"
      ]
     },
     "execution_count": 6,
     "metadata": {},
     "output_type": "execute_result"
    }
   ],
   "source": [
    "X.mean(axis=0)"
   ]
  },
  {
   "cell_type": "code",
   "execution_count": 7,
   "id": "5a7675b6",
   "metadata": {},
   "outputs": [
    {
     "data": {
      "text/plain": [
       "array([0.82278776, 0.82683333, 1.01246416, 1.10855237, 1.14966323,\n",
       "       0.80596336, 1.06766487, 0.96082655, 1.3372723 , 1.07566321,\n",
       "       1.09394733, 1.05324696, 0.80829941, 1.11543899, 1.15444828,\n",
       "       0.76056262, 0.63967638, 0.9984932 , 0.7697902 , 1.05077387,\n",
       "       0.67580697, 0.72153605, 1.16581579, 0.97885692, 0.99010597,\n",
       "       0.90397951, 1.3175242 , 1.19329255, 0.95634703, 0.99233799,\n",
       "       1.12479253, 0.89088311, 1.56150345, 1.10515095, 1.05224361,\n",
       "       1.05811586, 0.7653125 , 1.13680356, 1.23580254, 0.60024578,\n",
       "       1.36554459, 1.09016832, 0.74954294, 1.1684525 , 0.74382933,\n",
       "       0.87967357, 1.46400697, 0.78093171, 0.69652862, 1.19643836,\n",
       "       0.89580859, 1.05341931, 1.03853902, 1.47584374, 0.95772289,\n",
       "       1.0736338 , 1.20972334, 0.79165596, 1.07004114, 1.01411685,\n",
       "       0.61716941, 0.90152138, 1.06499984, 0.59148144, 0.64104073,\n",
       "       1.16017693, 1.02364961, 0.70352751, 0.65119519, 0.87761268,\n",
       "       0.79548069, 0.60152334, 1.06025408, 0.66564209, 1.03530361,\n",
       "       0.97881263, 1.4859198 , 0.90625226, 0.85394629, 0.98371119,\n",
       "       0.82519377, 0.94742041, 0.83972571, 0.67099774, 0.74227223,\n",
       "       0.76000558, 1.15975375, 0.67435329, 1.18138427, 0.72237265,\n",
       "       0.92096321, 1.01617244, 0.83881397, 0.904098  , 0.7279528 ,\n",
       "       0.87770552, 1.1116245 , 1.61525193, 1.0646134 , 1.38442383,\n",
       "       0.88647788, 1.01055257, 0.71610869, 0.91575753, 1.01596987,\n",
       "       1.00000317, 0.9279598 , 0.64279921, 1.11555077, 0.98677798,\n",
       "       1.0493205 , 0.62921443, 0.75515845, 0.87563882, 1.12578119,\n",
       "       1.05305106, 1.2604924 , 1.10529772, 0.56582271, 0.96577119,\n",
       "       1.01755689, 1.03103081, 0.55944972, 0.91203633, 0.5472852 ,\n",
       "       0.90085348, 0.44930589, 1.21383712, 1.59379241, 1.2694005 ,\n",
       "       0.96486357, 0.86901681, 1.1180315 , 0.78035481, 1.36116361,\n",
       "       1.15042949, 0.97506052, 1.02058712, 1.15743267, 1.14944504,\n",
       "       1.32216796, 0.81094195, 1.13020369, 1.38778327, 0.83441965,\n",
       "       1.13273685, 0.95176806, 0.70807479, 0.95557567, 0.79319609,\n",
       "       0.87128226, 0.72470553, 0.65867025, 1.05518831, 0.9656147 ,\n",
       "       0.85262816, 1.14109593, 1.19408786, 1.32329714, 0.72669533,\n",
       "       0.74489046, 0.76890171, 0.56544673, 1.13177113, 0.79532312,\n",
       "       0.84592129, 1.12353794, 0.61659892, 0.66764399, 0.73485189,\n",
       "       0.72783817, 0.90211928, 0.87926391, 1.39533139, 1.08383955,\n",
       "       0.99134895, 0.90327437, 0.65626423, 1.00709551, 1.13038034,\n",
       "       0.67705428, 1.02993796, 0.89414924, 1.04219426, 1.51473176,\n",
       "       1.01499028, 0.98463263, 0.52466739, 1.19505863, 0.98031757,\n",
       "       0.71346584, 0.93657176, 0.81793707, 0.90859445, 1.24213757,\n",
       "       0.77906017, 1.06663757, 0.8784126 , 1.04770726, 0.85930576,\n",
       "       1.48132   , 0.37400038, 0.87149806, 0.80458175, 1.04374594,\n",
       "       0.85712859, 1.14765484, 0.72598067, 0.88716263, 1.11704135,\n",
       "       0.89658841, 0.79834445, 1.22771269, 0.70740087, 0.78845753,\n",
       "       0.85571473, 0.74924022, 0.6587197 , 0.93488041, 1.31131838,\n",
       "       1.23989517, 0.91400143, 0.97015937, 1.23972842, 1.30213182,\n",
       "       1.0539918 , 0.97781242, 0.7994158 , 1.10289362, 1.18449755,\n",
       "       0.81301072, 0.83385023, 0.87499719, 1.29596082, 0.86087677,\n",
       "       0.62166621, 1.21198164, 1.27813215, 0.78096338, 1.03449479,\n",
       "       0.65202283, 0.8045773 , 1.08519039, 0.76920421, 1.11059686,\n",
       "       1.05974285, 0.86875889, 1.22997161, 1.10323739, 1.38221685,\n",
       "       0.83738635, 1.12788758, 1.05570726, 1.09322228, 0.69577088,\n",
       "       0.88784102, 1.44001625, 0.93261184, 1.18358124, 1.08104216,\n",
       "       1.11644817, 0.78727731, 0.88935592, 0.96748927, 0.89947042,\n",
       "       0.96241179, 0.82338155, 1.34702788, 0.81603836, 0.50155971,\n",
       "       1.01726611, 1.42040155, 0.62985677, 0.93404491, 1.03730081,\n",
       "       1.05451994, 1.10039587, 1.42670067, 1.19750763, 0.89490836,\n",
       "       1.06261892, 0.52613972, 1.26111171, 0.75009612, 0.84210137,\n",
       "       0.6775721 , 0.98027428, 0.90855669, 1.12123872, 0.49702314,\n",
       "       0.98266679, 1.01107272, 0.77371909, 1.01797706, 0.99746204,\n",
       "       1.13992925, 1.07052797, 0.80561058, 0.67837027, 0.80238296,\n",
       "       0.71370503, 1.40210971, 0.72640559, 1.03815124, 1.1933722 ,\n",
       "       1.24711436, 0.86518874, 0.64330515, 1.12424506, 1.11901754,\n",
       "       1.07791773, 0.94743966, 0.98268632, 0.86248405, 0.93979387,\n",
       "       1.09674355, 0.86493598, 0.7610927 , 1.18442895, 1.14029731,\n",
       "       0.75394478, 0.91762509, 1.02552944, 0.90604   , 0.80162986,\n",
       "       0.90984976, 0.78072812, 1.41046748, 0.74289855, 0.93759972,\n",
       "       1.02228034, 1.02775072, 1.13615716, 0.75018972, 0.70162863,\n",
       "       0.88019161, 0.80083167, 0.84298523, 1.08142133, 1.13159365,\n",
       "       1.02271699, 0.7848221 , 0.57561529, 0.70606229, 1.00792684,\n",
       "       1.05105807, 0.74172638, 0.82748145, 1.04585264, 0.77352042,\n",
       "       0.87922766, 0.84187807, 0.88949679, 0.76189562, 0.92753028,\n",
       "       0.91878706, 1.22775222, 1.16284344, 1.18375626, 0.95182742,\n",
       "       0.90199579, 1.35786433, 0.87270415, 0.52464773, 0.87960933,\n",
       "       1.12644585, 0.78614616, 1.07458923, 0.81823442, 0.8585993 ,\n",
       "       0.9159596 , 1.49911604, 0.47533307, 1.12302554, 1.05603122,\n",
       "       0.96240517, 0.78755665, 1.07191583, 0.89623234, 1.0288007 ,\n",
       "       0.78927345, 1.37405997, 1.05084009, 1.10525389, 1.08377024,\n",
       "       0.93676646, 0.7554321 , 1.18643201, 0.91310732, 1.094296  ,\n",
       "       0.82054931, 1.2612855 , 0.98364998, 0.98018611, 0.90094229,\n",
       "       1.06362768, 1.19999324, 0.90858687, 1.17228155, 0.82604456,\n",
       "       0.71023812, 0.47462459, 1.21730931, 1.1728196 , 0.58454675,\n",
       "       1.17128878, 1.16698003, 1.05551052, 0.67465364, 0.9249583 ,\n",
       "       0.92125614, 1.31158851, 1.49281809, 1.2286844 , 0.49480168,\n",
       "       1.12273781, 0.81928576, 1.13845581, 0.87782105, 0.91542224,\n",
       "       0.78770785, 1.03963936, 1.08240571, 0.68573857, 0.81357451,\n",
       "       0.79831875, 0.82065237, 0.80841994, 0.89778189, 0.58579234,\n",
       "       1.13667349, 1.03600993, 0.84317004, 0.99247587, 0.96789466,\n",
       "       0.94521978, 0.56132058, 0.96412687, 1.11542032, 0.84933073,\n",
       "       1.33287938, 1.33680211, 0.7612198 , 1.40103426, 0.77942596,\n",
       "       0.87555772, 1.16528432, 1.10248745, 1.26374166, 1.17084204,\n",
       "       1.22721859, 0.80575177, 0.92636086, 1.19173068, 1.05460112,\n",
       "       1.07277322, 1.19028888, 0.68972351, 0.98542574, 1.5714259 ,\n",
       "       1.01258934, 1.03295479, 1.14751347, 1.11089252, 1.09793572,\n",
       "       0.84139965, 1.09263008, 1.20090943, 0.98694732, 0.71690011,\n",
       "       0.9245334 , 1.20888496, 0.97750022, 1.21475189, 0.93190047,\n",
       "       1.01039771, 0.83603845, 0.82007228, 0.90757206, 0.99098448,\n",
       "       0.72857649, 0.97982841, 0.5028311 , 0.82072165, 1.28592527,\n",
       "       1.39336649, 1.08567488, 1.001887  , 0.84918791, 1.02327711,\n",
       "       0.88025901, 0.55944515, 0.95702118, 1.12888742, 0.71897484,\n",
       "       1.38967422, 0.72029456, 0.58963854, 0.80740751, 1.0486379 ])"
      ]
     },
     "execution_count": 7,
     "metadata": {},
     "output_type": "execute_result"
    }
   ],
   "source": [
    "X.std(axis=1)"
   ]
  },
  {
   "cell_type": "code",
   "execution_count": 8,
   "id": "f0945898",
   "metadata": {},
   "outputs": [
    {
     "data": {
      "text/plain": [
       "array([1., 1., 1., 1., 1., 1., 1., 1., 1., 1.])"
      ]
     },
     "execution_count": 8,
     "metadata": {},
     "output_type": "execute_result"
    }
   ],
   "source": [
    "X.std(axis=0)"
   ]
  },
  {
   "cell_type": "code",
   "execution_count": 9,
   "id": "6a8d4140",
   "metadata": {},
   "outputs": [
    {
     "data": {
      "image/png": "[encoded data removed]",
      "text/plain": [
       "<Figure size 640x480 with 10 Axes>"
      ]
     },
     "metadata": {},
     "output_type": "display_data"
    }
   ],
   "source": [
    "# step - 3\n",
    "# Visualise y as a function of each feature\n",
    "\n",
    "for f in range(0, 10):\n",
    "    plt.subplot(4, 3, f + 1)\n",
    "    plt.scatter(X[:, f], Y)\n",
    "\n",
    "plt.show()"
   ]
  },
  {
   "cell_type": "code",
   "execution_count": 10,
   "id": "1f475b4b",
   "metadata": {},
   "outputs": [],
   "source": [
    "# step - 4\n",
    "XT, Xt, YT, Yt = train_test_split(X, Y, test_size=0.3, shuffle=False, random_state=0)"
   ]
  },
  {
   "cell_type": "code",
   "execution_count": 11,
   "id": "364f1510",
   "metadata": {},
   "outputs": [
    {
     "name": "stdout",
     "output_type": "stream",
     "text": [
      "(350, 10) (350,)\n",
      "(150, 10) (150,)\n"
     ]
    }
   ],
   "source": [
    "print(XT.shape, YT.shape)  # Train\n",
    "print(Xt.shape, Yt.shape)  # Test"
   ]
  },
  {
   "cell_type": "code",
   "execution_count": 12,
   "id": "28e794dc",
   "metadata": {},
   "outputs": [],
   "source": [
    "# step - 5 Modelling / Linear Regression with Mltiple Features\n",
    "\n",
    "def preprocess(x):\n",
    "    #add a column of 1's in x as 0th column\n",
    "    if x.shape[1] == n_features:\n",
    "        m = x.shape[0]\n",
    "        ones = np.ones((m, 1))\n",
    "        x = np.hstack((ones, x))\n",
    "    return x\n",
    "\n",
    "def hypothesis(X, theta):\n",
    "    return np.dot(X, theta)   # Dot product of two array\n",
    "\n",
    "def loss(x, y, theta):\n",
    "    YP = hypothesis(x, theta)\n",
    "    error = np.mean((y - YP) ** 2)\n",
    "    return error\n",
    "\n",
    "def gradient(x, y, theta):\n",
    "    YP = hypothesis(x, theta)\n",
    "    grad = np.dot(x.T, (YP - y))\n",
    "    m = x.shape[0]\n",
    "    return grad/m\n",
    "\n",
    "def train(x, y, learning_rate=0.01, max_iters=100):\n",
    "    n = x.shape[1]\n",
    "    theta = np.random.randn(n)\n",
    "    error_list = []\n",
    "\n",
    "    for i in range(max_iters):\n",
    "        e = loss(x, y, theta)\n",
    "        error_list.append(e)\n",
    "        grad = gradient(x, y, theta)\n",
    "        theta = theta - learning_rate * grad\n",
    "\n",
    "    # print(error_list)\n",
    "    plt.plot(error_list)\n",
    "    return theta"
   ]
  },
  {
   "cell_type": "code",
   "execution_count": 13,
   "id": "5262146f",
   "metadata": {},
   "outputs": [
    {
     "data": {
      "text/html": [
       "<div>\n",
       "<style scoped>\n",
       "    .dataframe tbody tr th:only-of-type {\n",
       "        vertical-align: middle;\n",
       "    }\n",
       "\n",
       "    .dataframe tbody tr th {\n",
       "        vertical-align: top;\n",
       "    }\n",
       "\n",
       "    .dataframe thead th {\n",
       "        text-align: right;\n",
       "    }\n",
       "</style>\n",
       "<table border=\"1\" class=\"dataframe\">\n",
       "  <thead>\n",
       "    <tr style=\"text-align: right;\">\n",
       "      <th></th>\n",
       "      <th>0</th>\n",
       "      <th>1</th>\n",
       "      <th>2</th>\n",
       "      <th>3</th>\n",
       "      <th>4</th>\n",
       "      <th>5</th>\n",
       "      <th>6</th>\n",
       "      <th>7</th>\n",
       "      <th>8</th>\n",
       "      <th>9</th>\n",
       "    </tr>\n",
       "  </thead>\n",
       "  <tbody>\n",
       "    <tr>\n",
       "      <th>0</th>\n",
       "      <td>-8.429209</td>\n",
       "      <td>-8.470612</td>\n",
       "      <td>-10.070459</td>\n",
       "      <td>-10.093983</td>\n",
       "      <td>-9.745413</td>\n",
       "      <td>-10.127899</td>\n",
       "      <td>-9.660195</td>\n",
       "      <td>-10.253784</td>\n",
       "      <td>-10.958297</td>\n",
       "      <td>-10.959969</td>\n",
       "    </tr>\n",
       "    <tr>\n",
       "      <th>1</th>\n",
       "      <td>-11.807002</td>\n",
       "      <td>-9.340297</td>\n",
       "      <td>-10.441807</td>\n",
       "      <td>-10.737356</td>\n",
       "      <td>-10.541911</td>\n",
       "      <td>-10.918799</td>\n",
       "      <td>-8.965069</td>\n",
       "      <td>-9.526722</td>\n",
       "      <td>-10.413460</td>\n",
       "      <td>-9.483507</td>\n",
       "    </tr>\n",
       "    <tr>\n",
       "      <th>2</th>\n",
       "      <td>-10.068104</td>\n",
       "      <td>-10.108925</td>\n",
       "      <td>-9.134024</td>\n",
       "      <td>-9.875795</td>\n",
       "      <td>-12.506999</td>\n",
       "      <td>-9.865108</td>\n",
       "      <td>-12.182562</td>\n",
       "      <td>-10.359065</td>\n",
       "      <td>-10.033913</td>\n",
       "      <td>-10.022943</td>\n",
       "    </tr>\n",
       "    <tr>\n",
       "      <th>3</th>\n",
       "      <td>-11.731590</td>\n",
       "      <td>-10.767393</td>\n",
       "      <td>-9.529243</td>\n",
       "      <td>-10.787120</td>\n",
       "      <td>-12.143704</td>\n",
       "      <td>-11.728104</td>\n",
       "      <td>-8.426434</td>\n",
       "      <td>-10.056455</td>\n",
       "      <td>-10.179261</td>\n",
       "      <td>-9.568792</td>\n",
       "    </tr>\n",
       "    <tr>\n",
       "      <th>4</th>\n",
       "      <td>-10.266249</td>\n",
       "      <td>-12.205962</td>\n",
       "      <td>-9.630797</td>\n",
       "      <td>-8.838446</td>\n",
       "      <td>-8.516689</td>\n",
       "      <td>-11.532089</td>\n",
       "      <td>-8.987576</td>\n",
       "      <td>-8.977152</td>\n",
       "      <td>-10.042986</td>\n",
       "      <td>-9.325367</td>\n",
       "    </tr>\n",
       "  </tbody>\n",
       "</table>\n",
       "</div>"
      ],
      "text/plain": [
       "           0          1          2          3          4          5   \n",
       "0  -8.429209  -8.470612 -10.070459 -10.093983  -9.745413 -10.127899  \\\n",
       "1 -11.807002  -9.340297 -10.441807 -10.737356 -10.541911 -10.918799   \n",
       "2 -10.068104 -10.108925  -9.134024  -9.875795 -12.506999  -9.865108   \n",
       "3 -11.731590 -10.767393  -9.529243 -10.787120 -12.143704 -11.728104   \n",
       "4 -10.266249 -12.205962  -9.630797  -8.838446  -8.516689 -11.532089   \n",
       "\n",
       "           6          7          8          9  \n",
       "0  -9.660195 -10.253784 -10.958297 -10.959969  \n",
       "1  -8.965069  -9.526722 -10.413460  -9.483507  \n",
       "2 -12.182562 -10.359065 -10.033913 -10.022943  \n",
       "3  -8.426434 -10.056455 -10.179261  -9.568792  \n",
       "4  -8.987576  -8.977152 -10.042986  -9.325367  "
      ]
     },
     "execution_count": 13,
     "metadata": {},
     "output_type": "execute_result"
    }
   ],
   "source": [
    "pd.DataFrame(X).head()"
   ]
  },
  {
   "cell_type": "code",
   "execution_count": 14,
   "id": "fc008052",
   "metadata": {},
   "outputs": [
    {
     "name": "stdout",
     "output_type": "stream",
     "text": [
      "(350, 11) (150, 11)\n"
     ]
    }
   ],
   "source": [
    "XT = preprocess(XT)  # Train\n",
    "Xt = preprocess(Xt); # Test\n",
    "print(XT.shape, Xt.shape)"
   ]
  },
  {
   "cell_type": "code",
   "execution_count": 15,
   "id": "e2a0e317",
   "metadata": {},
   "outputs": [
    {
     "name": "stdout",
     "output_type": "stream",
     "text": [
      "[ 9.71552520e+95 -9.87542387e+96 -9.79828893e+96 -9.82324043e+96\n",
      " -1.01539749e+97 -9.57179634e+96 -1.05070747e+97 -9.78144864e+96\n",
      " -9.50152640e+96 -9.93350433e+96 -9.95559857e+96]\n"
     ]
    },
    {
     "data": {
      "image/png": "[encoded data removed]",
      "text/plain": [
       "<Figure size 640x480 with 1 Axes>"
      ]
     },
     "metadata": {},
     "output_type": "display_data"
    }
   ],
   "source": [
    "theta = train(XT, YT)\n",
    "print(theta)"
   ]
  },
  {
   "cell_type": "code",
   "execution_count": 16,
   "id": "661a170b",
   "metadata": {},
   "outputs": [
    {
     "name": "stdout",
     "output_type": "stream",
     "text": [
      "(11,)\n"
     ]
    }
   ],
   "source": [
    "print(theta.shape)"
   ]
  },
  {
   "cell_type": "code",
   "execution_count": 17,
   "id": "21b4e238",
   "metadata": {},
   "outputs": [
    {
     "data": {
      "text/plain": [
       "(11,)"
      ]
     },
     "execution_count": 17,
     "metadata": {},
     "output_type": "execute_result"
    }
   ],
   "source": [
    "gradient(XT, YT, theta).shape"
   ]
  },
  {
   "cell_type": "code",
   "execution_count": 18,
   "id": "76183d91",
   "metadata": {},
   "outputs": [],
   "source": [
    "def r2Score(y, yp):\n",
    "    ymean = y.mean()\n",
    "    num = np.sum((y-yp) ** 2)\n",
    "    denom = np.sum((y-ymean) ** 2)\n",
    "    return (1 - num/denom) * 100"
   ]
  },
  {
   "cell_type": "code",
   "execution_count": 19,
   "id": "8faba1c5",
   "metadata": {},
   "outputs": [],
   "source": [
    "YP = hypothesis(Xt, theta)"
   ]
  },
  {
   "cell_type": "code",
   "execution_count": 20,
   "id": "ed572fbf",
   "metadata": {},
   "outputs": [
    {
     "data": {
      "text/plain": [
       "-1.0554776455360038e+196"
      ]
     },
     "execution_count": 20,
     "metadata": {},
     "output_type": "execute_result"
    }
   ],
   "source": [
    "r2Score(Yt, YP)"
   ]
  },
  {
   "cell_type": "code",
   "execution_count": null,
   "id": "15b6609a",
   "metadata": {},
   "outputs": [],
   "source": []
  }
 ],
 "metadata": {
  "kernelspec": {
   "display_name": "Python 3 (ipykernel)",
   "language": "python",
   "name": "python3"
  },
  "language_info": {
   "codemirror_mode": {
    "name": "ipython",
    "version": 3
   },
   "file_extension": ".py",
   "mimetype": "text/x-python",
   "name": "python",
   "nbconvert_exporter": "python",
   "pygments_lexer": "ipython3",
   "version": "3.11.1"
  }
 },
 "nbformat": 4,
 "nbformat_minor": 5
}
