{
 "cells": [
  {
   "cell_type": "code",
   "execution_count": 5,
   "id": "4af7b2cf",
   "metadata": {},
   "outputs": [],
   "source": [
    "import matplotlib.pyplot as plt\n",
    "import numpy as np\n",
    "from sklearn import datasets, linear_model\n",
    "from sklearn.metrics import  mean_squared_error"
   ]
  },
  {
   "cell_type": "markdown",
   "id": "800369bb",
   "metadata": {},
   "source": [
    "### Linear Regression"
   ]
  },
  {
   "cell_type": "code",
   "execution_count": 10,
   "id": "d91b4fcd",
   "metadata": {},
   "outputs": [
    {
     "name": "stdout",
     "output_type": "stream",
     "text": [
      "Mean squared error is:  1826.4841712795044\n",
      "Weights:  [  -1.16678648 -237.18123633  518.31283524  309.04204042 -763.10835067\n",
      "  458.88378916   80.61107395  174.31796962  721.48087773   79.1952801 ]\n",
      "Intercept:  153.05824267739402\n"
     ]
    }
   ],
   "source": [
    "# diabetes = datasets.load_diabetes()\n",
    "# ['data', 'target', 'frame', 'DESCR', 'feature_names', 'data_filename', 'target_filename', 'data_module']\n",
    "# diabetes.keys()\n",
    "# diabetes.data\n",
    "# diabetes.DESCR\n",
    "\n",
    "# Load the diabetes dataset\n",
    "diabetes = datasets.load_diabetes()\n",
    "\n",
    "# Extract the relevant features\n",
    "# diabetes_x = diabetes.data[:, np.newaxis, 2]\n",
    "diabetes_x = diabetes.data\n",
    "\n",
    "# Split the dataset into training and testing sets\n",
    "diabetes_X_train = diabetes_x[:-30]\n",
    "diabetes_X_test = diabetes_x[-30:]\n",
    "\n",
    "diabetes_Y_train = diabetes.target[:-30]\n",
    "diabetes_Y_test = diabetes.target[-30:]\n",
    "\n",
    "# Create a linear regression model\n",
    "model = linear_model.LinearRegression()\n",
    "\n",
    "# Train the model\n",
    "model.fit(diabetes_X_train, diabetes_Y_train)\n",
    "\n",
    "# Predict using the trained model\n",
    "diabetes_Y_predicted = model.predict(diabetes_X_test)\n",
    "\n",
    "# Calculate mean squared error\n",
    "mse = mean_squared_error(diabetes_Y_test, diabetes_Y_predicted)\n",
    "print(\"Mean squared error is: \", mse)\n",
    "\n",
    "print(\"Weights: \", model.coef_)\n",
    "print(\"Intercept: \", model.intercept_)\n",
    "\n",
    "#Plot the Graph\n",
    "# plt.scatter(diabetes_X_test, diabetes_Y_test)\n",
    "# plt.plot(diabetes_X_test, diabetes_Y_predicted)\n",
    "# plt.show()\n",
    "\n",
    "# Mean squared error is:  3035.060115291269\n",
    "# Weights:  [941.43097333]\n",
    "# Intercept:  153.39713623331644"
   ]
  },
  {
   "cell_type": "code",
   "execution_count": null,
   "id": "153da0da",
   "metadata": {},
   "outputs": [],
   "source": []
  }
 ],
 "metadata": {
  "kernelspec": {
   "display_name": "Python 3 (ipykernel)",
   "language": "python",
   "name": "python3"
  },
  "language_info": {
   "codemirror_mode": {
    "name": "ipython",
    "version": 3
   },
   "file_extension": ".py",
   "mimetype": "text/x-python",
   "name": "python",
   "nbconvert_exporter": "python",
   "pygments_lexer": "ipython3",
   "version": "3.11.1"
  }
 },
 "nbformat": 4,
 "nbformat_minor": 5
}
